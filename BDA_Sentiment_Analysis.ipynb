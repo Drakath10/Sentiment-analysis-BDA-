{
 "cells": [
  {
   "cell_type": "markdown",
   "metadata": {},
   "source": [
    "## Sentiment analysis using pyspark"
   ]
  },
  {
   "cell_type": "code",
   "execution_count": 1,
   "metadata": {},
   "outputs": [],
   "source": [
    "from IPython import display\n",
    "import math\n",
    "import pyspark\n",
    "import pandas as pd\n",
    "import numpy as np\n",
    "from pyspark.sql import SparkSession\n",
    "from pyspark.sql import SQLContext\n",
    "from pyspark import SparkContext\n",
    "from pyspark.sql.types import *\n",
    "from pyspark import SparkConf\n",
    "from pyspark import SparkContext\n",
    "from pyspark import HiveContext\n",
    "from pyspark.sql.functions import *\n",
    "from pyspark.sql.types import StringType\n",
    "from pyspark.sql.functions import udf"
   ]
  },
  {
   "cell_type": "markdown",
   "metadata": {},
   "source": [
    "### Create Spark Context and load dataset"
   ]
  },
  {
   "cell_type": "code",
   "execution_count": 2,
   "metadata": {},
   "outputs": [
    {
     "name": "stderr",
     "output_type": "stream",
     "text": [
      "C:\\Users\\Avinash\\AppData\\Local\\Programs\\Python\\Python311\\Lib\\site-packages\\pyspark\\sql\\context.py:733: FutureWarning: HiveContext is deprecated in Spark 2.0.0. Please use SparkSession.builder.enableHiveSupport().getOrCreate() instead.\n",
      "  warnings.warn(\n",
      "C:\\Users\\Avinash\\AppData\\Local\\Programs\\Python\\Python311\\Lib\\site-packages\\pyspark\\sql\\context.py:113: FutureWarning: Deprecated in 3.0.0. Use SparkSession.builder.getOrCreate() instead.\n",
      "  warnings.warn(\n"
     ]
    }
   ],
   "source": [
    "sc = SparkContext.getOrCreate(SparkConf().setMaster(\"local[*]\"))\n",
    "sqlContext=HiveContext(sc)"
   ]
  },
  {
   "cell_type": "code",
   "execution_count": 3,
   "metadata": {},
   "outputs": [],
   "source": [
    "customSchema = StructType([\n",
    "    StructField(\"category\", StringType()), \n",
    "    StructField(\"clean_text\", StringType())])\n"
   ]
  },
  {
   "cell_type": "code",
   "execution_count": 4,
   "metadata": {},
   "outputs": [],
   "source": [
    "filename1 = 'train.csv'"
   ]
  },
  {
   "cell_type": "code",
   "execution_count": 5,
   "metadata": {},
   "outputs": [],
   "source": [
    "df1 = sqlContext.read.format(\"csv\").option(\"header\", \"true\").schema(customSchema).load(filename1)\n",
    "#df1.count()\n",
    "df=df1"
   ]
  },
  {
   "cell_type": "code",
   "execution_count": 6,
   "metadata": {},
   "outputs": [
    {
     "name": "stdout",
     "output_type": "stream",
     "text": [
      "3600000\n"
     ]
    }
   ],
   "source": [
    "print(df1.count())"
   ]
  },
  {
   "cell_type": "code",
   "execution_count": 7,
   "metadata": {},
   "outputs": [],
   "source": [
    "#df.count() "
   ]
  },
  {
   "cell_type": "code",
   "execution_count": null,
   "metadata": {},
   "outputs": [],
   "source": [
    "data = df.na.drop(how='any')\n",
    "data.show(5)"
   ]
  },
  {
   "cell_type": "code",
   "execution_count": null,
   "metadata": {},
   "outputs": [],
   "source": [
    "#df.count() "
   ]
  },
  {
   "cell_type": "code",
   "execution_count": null,
   "metadata": {},
   "outputs": [],
   "source": [
    "data.printSchema()"
   ]
  },
  {
   "cell_type": "markdown",
   "metadata": {},
   "source": [
    "## Preprocessing"
   ]
  },
  {
   "cell_type": "code",
   "execution_count": 19,
   "metadata": {},
   "outputs": [],
   "source": [
    "from pyspark.sql.functions import col\n",
    "\n",
    "#data.groupBy(\"category\").count().orderBy(col(\"count\").desc()).show()"
   ]
  },
  {
   "cell_type": "markdown",
   "metadata": {},
   "source": [
    "## Model Pipeline"
   ]
  },
  {
   "cell_type": "code",
   "execution_count": 85,
   "metadata": {},
   "outputs": [],
   "source": [
    "from pyspark.ml.feature import RegexTokenizer, StopWordsRemover, CountVectorizer\n",
    "from pyspark.ml.classification import LogisticRegression\n",
    "import nltk\n",
    "from nltk.corpus import stopwords\n",
    "# regular expression tokenizer\n",
    "regexTokenizer = RegexTokenizer(inputCol=\"clean_text\", outputCol=\"words\", pattern=\"\\\\W\")\n",
    "\n",
    "# stop words\n",
    "#add_stopwords = [ \"a\", \"an\",\"in\", \"on\",\"the\",\"I\", \"you\", \"he\", \"she\", \"it\", \"we\", \"they\", \"me\", \"him\", \"her\", \"us\", \"them\"] \n",
    "add_stopwords = set(stopwords.words('english'))\n",
    "\n",
    "stopwordsRemover = StopWordsRemover(inputCol=\"words\", outputCol=\"filtered\").setStopWords(list(add_stopwords))\n",
    "\n",
    "\n",
    "countVectors = CountVectorizer(inputCol=\"filtered\", outputCol=\"features\", vocabSize=30000, minDF=5)"
   ]
  },
  {
   "cell_type": "code",
   "execution_count": 81,
   "metadata": {},
   "outputs": [],
   "source": [
    "from pyspark.ml import Pipeline\n",
    "from pyspark.ml.feature import OneHotEncoder, StringIndexer, VectorAssembler\n",
    "label_stringIdx = StringIndexer(inputCol = \"category\", outputCol = \"label\")\n",
    "\n",
    "pipeline = Pipeline(stages=[regexTokenizer, stopwordsRemover, countVectors, label_stringIdx])\n",
    "\n",
    "\n",
    "pipelineFit = pipeline.fit(data)\n",
    "dataset = pipelineFit.transform(data)\n",
    "#dataset.show(5)"
   ]
  },
  {
   "cell_type": "code",
   "execution_count": 82,
   "metadata": {},
   "outputs": [
    {
     "name": "stdout",
     "output_type": "stream",
     "text": [
      "+--------+--------------------+--------------------+--------------------+--------------------+-----+\n",
      "|category|          clean_text|               words|            filtered|            features|label|\n",
      "+--------+--------------------+--------------------+--------------------+--------------------+-----+\n",
      "|       2|Stuning even for ...|[stuning, even, f...|[stuning, even, f...|(30000,[0,1,2,3,4...|  1.0|\n",
      "|       2|The best soundtra...|[the, best, sound...|[best, soundtrack...|(30000,[0,1,2,3,4...|  1.0|\n",
      "|       2|\"Amazing!. This s...|[amazing, this, s...|[amazing, this, s...|(30000,[1,2,3,5,6...|  1.0|\n",
      "|       2|Excellent Soundtr...|[excellent, sound...|[excellent, sound...|(30000,[0,1,2,4,5...|  1.0|\n",
      "|       2|Remember, Pull Yo...|[remember, pull, ...|[remember, pull, ...|(30000,[1,2,4,5,6...|  1.0|\n",
      "+--------+--------------------+--------------------+--------------------+--------------------+-----+\n",
      "only showing top 5 rows\n",
      "\n"
     ]
    }
   ],
   "source": [
    "dataset.show(5)"
   ]
  },
  {
   "cell_type": "code",
   "execution_count": 22,
   "metadata": {},
   "outputs": [],
   "source": [
    "# set seed for reproducibility\n",
    "(trainingData, testData) = dataset.randomSplit([0.7, 0.3], seed = 100)\n",
    "#print(\"Training Dataset Count: \" + str(trainingData.count()))\n",
    "#print(\"Test Dataset Count: \" + str(testData.count()))"
   ]
  },
  {
   "cell_type": "markdown",
   "metadata": {},
   "source": [
    "Logistic Regression\n"
   ]
  },
  {
   "cell_type": "code",
   "execution_count": 23,
   "metadata": {},
   "outputs": [
    {
     "name": "stdout",
     "output_type": "stream",
     "text": [
      "+------------------------------+--------+------------------------------+-----+----------+\n",
      "|                    clean_text|category|                   probability|label|prediction|\n",
      "+------------------------------+--------+------------------------------+-----+----------+\n",
      "|This is what i think of GC....|       1|[0.9999999999999998,2.22044...|  0.0|       0.0|\n",
      "|No Good!. Stinks! Stinks! S...|       1|[0.9999999999989759,1.02406...|  0.0|       0.0|\n",
      "|No. No no no no no no no no...|       1|[0.9999999976492999,2.35070...|  0.0|       0.0|\n",
      "|Bad Bad Bad Bad Bad Bad Bad...|       1|[0.9999999974275748,2.57242...|  0.0|       0.0|\n",
      "|The Illustrated Man-. It wa...|       1|[0.9999999851147299,1.48852...|  0.0|       0.0|\n",
      "|Ew. TRASH TRASH TRASH TRASH...|       1|[0.9999999848757495,1.51242...|  0.0|       0.0|\n",
      "|Horrible. Horrible, Es una ...|       1|[0.9999999673141169,3.26858...|  0.0|       0.0|\n",
      "|Word Wealth. This book stin...|       1|[0.9999999662677757,3.37322...|  0.0|       0.0|\n",
      "|Spit!!!!!!!. This album is ...|       1|[0.9999999510047344,4.89952...|  0.0|       0.0|\n",
      "|BAD IS ONLY ONE WAY TO DESC...|       1|[0.9999992234856815,7.76514...|  0.0|       0.0|\n",
      "+------------------------------+--------+------------------------------+-----+----------+\n",
      "only showing top 10 rows\n",
      "\n"
     ]
    }
   ],
   "source": [
    "lr = LogisticRegression(maxIter=20, regParam=0.3, elasticNetParam=0)\n",
    "lrModel = lr.fit(trainingData)\n",
    "\n",
    "predictions = lrModel.transform(testData)\n",
    "\n",
    "predictions.filter(predictions['prediction'] == 0).select(\"clean_text\",\"category\",\"probability\",\"label\",\"prediction\")\\\n",
    ".orderBy(\"probability\", ascending=False).show(n = 10, truncate = 30)"
   ]
  },
  {
   "cell_type": "code",
   "execution_count": 24,
   "metadata": {},
   "outputs": [
    {
     "name": "stdout",
     "output_type": "stream",
     "text": [
      "0.894948182403883\n"
     ]
    }
   ],
   "source": [
    "from pyspark.ml.evaluation import MulticlassClassificationEvaluator\n",
    "evaluator = MulticlassClassificationEvaluator(predictionCol=\"prediction\")\n",
    "lrAccuracy = evaluator.evaluate(predictions)\n",
    "print(lrAccuracy)"
   ]
  },
  {
   "cell_type": "markdown",
   "metadata": {},
   "source": [
    "Model Summary\n"
   ]
  },
  {
   "cell_type": "code",
   "execution_count": 25,
   "metadata": {},
   "outputs": [
    {
     "name": "stdout",
     "output_type": "stream",
     "text": [
      "\n",
      "False positive rate by label:\n",
      "label 0: 0.09274251154816895\n",
      "label 1: 0.11228863996343356\n",
      "\n",
      "True positive rate by label:\n",
      "label 0: 0.8877113600365665\n",
      "label 1: 0.9072574884518311\n",
      "\n",
      "Precision by label:\n",
      "label 0: 0.9054243601272016\n",
      "label 1: 0.8898460446226937\n",
      "\n",
      "Recall by label:\n",
      "label 0: 0.8877113600365665\n",
      "label 1: 0.9072574884518311\n",
      "\n",
      "F-measure by label:\n",
      "label 0: 0.8964803735718886\n",
      "label 1: 0.8984674201513597\n",
      "\n",
      "Accuracy: 0.8974835245417664\n",
      "\n",
      "FPR: 0.10251467605336892\n",
      "\n",
      "TPR: 0.8974835245417664\n",
      "\n",
      "F-measure: 0.8974738053984657\n",
      "\n",
      "Precision: 0.8976359194401411\n",
      "\n",
      "Recall: 0.8974835245417664\n"
     ]
    }
   ],
   "source": [
    "trainingSummary = lrModel.summary\n",
    "\n",
    "# for multiclass, we can inspect metrics on a per-label basis\n",
    "print(\"\\nFalse positive rate by label:\")\n",
    "for i, rate in enumerate(trainingSummary.falsePositiveRateByLabel):\n",
    "    print(\"label %d: %s\" % (i, rate))\n",
    "\n",
    "print(\"\\nTrue positive rate by label:\")\n",
    "for i, rate in enumerate(trainingSummary.truePositiveRateByLabel):\n",
    "    print(\"label %d: %s\" % (i, rate))\n",
    "\n",
    "print(\"\\nPrecision by label:\")\n",
    "for i, prec in enumerate(trainingSummary.precisionByLabel):\n",
    "    print(\"label %d: %s\" % (i, prec))\n",
    "\n",
    "print(\"\\nRecall by label:\")\n",
    "for i, rec in enumerate(trainingSummary.recallByLabel):\n",
    "    print(\"label %d: %s\" % (i, rec))\n",
    "\n",
    "print(\"\\nF-measure by label:\")\n",
    "for i, f in enumerate(trainingSummary.fMeasureByLabel()):\n",
    "    print(\"label %d: %s\" % (i, f))\n",
    "\n",
    "accuracy = trainingSummary.accuracy\n",
    "falsePositiveRate = trainingSummary.weightedFalsePositiveRate\n",
    "truePositiveRate = trainingSummary.weightedTruePositiveRate\n",
    "fMeasure = trainingSummary.weightedFMeasure()\n",
    "precision = trainingSummary.weightedPrecision\n",
    "recall = trainingSummary.weightedRecall\n",
    "print(\"\\nAccuracy: %s\\n\\nFPR: %s\\n\\nTPR: %s\\n\\nF-measure: %s\\n\\nPrecision: %s\\n\\nRecall: %s\"\n",
    "      % (accuracy, falsePositiveRate, truePositiveRate, fMeasure, precision, recall))"
   ]
  },
  {
   "cell_type": "markdown",
   "metadata": {},
   "source": [
    "## Logistic Regression using TF-IDF Features"
   ]
  },
  {
   "cell_type": "code",
   "execution_count": 26,
   "metadata": {},
   "outputs": [
    {
     "name": "stdout",
     "output_type": "stream",
     "text": [
      "+------------------------------+--------+------------------------------+-----+----------+\n",
      "|                    clean_text|category|                   probability|label|prediction|\n",
      "+------------------------------+--------+------------------------------+-----+----------+\n",
      "|This is what i think of GC....|       1|[0.9999999999999998,2.22044...|  0.0|       0.0|\n",
      "|No Good!. Stinks! Stinks! S...|       1|[0.9999999999995814,4.18554...|  0.0|       0.0|\n",
      "|Bad Bad Bad Bad Bad Bad Bad...|       1|[0.9999999992269233,7.73076...|  0.0|       0.0|\n",
      "|No. No no no no no no no no...|       1|[0.9999999991115656,8.88434...|  0.0|       0.0|\n",
      "|Horrible. Horrible, Es una ...|       1|[0.9999999859591506,1.40408...|  0.0|       0.0|\n",
      "|Word Wealth. This book stin...|       1|[0.9999999812306982,1.87693...|  0.0|       0.0|\n",
      "|Spit!!!!!!!. This album is ...|       1|[0.999999523906822,4.760931...|  0.0|       0.0|\n",
      "|The Illustrated Man-. It wa...|       1|[0.9999982025354847,1.79746...|  0.0|       0.0|\n",
      "|Zzzzzzzzzzzzzzz. Boring! Bo...|       1|[0.9999976297630001,2.37023...|  0.0|       0.0|\n",
      "|BAD IS ONLY ONE WAY TO DESC...|       1|[0.9999699594978549,3.00405...|  0.0|       0.0|\n",
      "+------------------------------+--------+------------------------------+-----+----------+\n",
      "only showing top 10 rows\n",
      "\n"
     ]
    }
   ],
   "source": [
    "from pyspark.ml.feature import HashingTF, IDF\n",
    "\n",
    "hashingTF = HashingTF(inputCol=\"filtered\", outputCol=\"rawFeatures\", numFeatures=30000)\n",
    "idf = IDF(inputCol=\"rawFeatures\", outputCol=\"features\", minDocFreq=5) #minDocFreq: remove sparse terms\n",
    "pipeline = Pipeline(stages=[regexTokenizer, stopwordsRemover, hashingTF, idf, label_stringIdx])\n",
    "\n",
    "pipelineFit = pipeline.fit(data)\n",
    "dataset = pipelineFit.transform(data)\n",
    "\n",
    "(trainingData, testData) = dataset.randomSplit([0.7, 0.3], seed = 100)\n",
    "lr = LogisticRegression(maxIter=20, regParam=0.3, elasticNetParam=0)\n",
    "lrModel = lr.fit(trainingData)\n",
    "\n",
    "predictions = lrModel.transform(testData)\n",
    "\n",
    "predictions.filter(predictions['prediction'] == 0) \\\n",
    "    .select(\"clean_text\",\"category\",\"probability\",\"label\",\"prediction\") \\\n",
    "    .orderBy(\"probability\", ascending=False) \\\n",
    "    .show(n = 10, truncate = 30)"
   ]
  },
  {
   "cell_type": "code",
   "execution_count": 129,
   "metadata": {},
   "outputs": [
    {
     "name": "stdout",
     "output_type": "stream",
     "text": [
      "+------------------------------+--------+------------------------------+-----+----------+\n",
      "|                    clean_text|category|                   probability|label|prediction|\n",
      "+------------------------------+--------+------------------------------+-----+----------+\n",
      "|!!! GOOD, BUT.................|       2|[0.5017646464206011,0.49823...|  1.0|       0.0|\n",
      "|\"\"\" Almost \"\"perfect. I onl...|       2|[0.5002191015510651,0.49978...|  1.0|       0.0|\n",
      "|\"\"\"BAD A**\"\". I got this er...|       2|[0.5020516302494911,0.49794...|  1.0|       0.0|\n",
      "|\"1st class book on how to u...|       2|[0.5122942383456983,0.48770...|  1.0|       0.0|\n",
      "|!!!. First things first, Co...|       2|[0.5236269912715589,0.47637...|  1.0|       0.0|\n",
      "|\"\"\"A DEFINITE KEEPER\"\". Thi...|       2|[0.5074305972022748,0.49256...|  1.0|       0.0|\n",
      "|\"1ST OF ALL SHANNON HOLMES ...|       2|[0.5176967184143518,0.48230...|  1.0|       0.0|\n",
      "|\"\"\"Dancing Machine\"\" a Smok...|       2|[0.502013316418735,0.497986...|  1.0|       0.0|\n",
      "|\"\"\"Clear storage \"\". I was ...|       2|[0.5096458069395606,0.49035...|  1.0|       0.0|\n",
      "|\"\"\"If Glastonbury had a sta...|       2|[0.5188839956515843,0.48111...|  1.0|       0.0|\n",
      "+------------------------------+--------+------------------------------+-----+----------+\n",
      "only showing top 10 rows\n",
      "\n"
     ]
    }
   ],
   "source": [
    "predictions.filter(predictions['prediction'] == 0) \\\n",
    "    .select(\"clean_text\",\"category\",\"probability\",\"label\",\"prediction\") \\\n",
    "    .orderBy(\"category\", ascending=False) \\\n",
    "    .show(n = 10, truncate = 30)"
   ]
  },
  {
   "cell_type": "code",
   "execution_count": 49,
   "metadata": {},
   "outputs": [
    {
     "data": {
      "text/plain": [
       "0.8850189164021753"
      ]
     },
     "execution_count": 49,
     "metadata": {},
     "output_type": "execute_result"
    }
   ],
   "source": [
    "evaluator = MulticlassClassificationEvaluator(predictionCol=\"prediction\")\n",
    "evaluator.evaluate(predictions)"
   ]
  },
  {
   "cell_type": "markdown",
   "metadata": {},
   "source": [
    "### DecisionTreeClassifier"
   ]
  },
  {
   "cell_type": "code",
   "execution_count": 52,
   "metadata": {},
   "outputs": [
    {
     "name": "stdout",
     "output_type": "stream",
     "text": [
      "+------------------------------+--------+------------------------------+-----+----------+\n",
      "|                    clean_text|category|                   probability|label|prediction|\n",
      "+------------------------------+--------+------------------------------+-----+----------+\n",
      "|\"\"\"Lost\"\". What is J J Abra...|       1|[0.9732403187836116,0.02675...|  0.0|       0.0|\n",
      "|\"A call to arms rather than...|       1|[0.9732403187836116,0.02675...|  0.0|       0.0|\n",
      "|\"280 pages I'll never get b...|       1|[0.9732403187836116,0.02675...|  0.0|       0.0|\n",
      "|\"An Insult to the Artists a...|       1|[0.9732403187836116,0.02675...|  0.0|       0.0|\n",
      "|\"\"\"SOME BEACH IS THE ONLY G...|       1|[0.9732403187836116,0.02675...|  0.0|       0.0|\n",
      "|\"A complete waste of money!...|       1|[0.9732403187836116,0.02675...|  0.0|       0.0|\n",
      "|\"A Waste of Money, Time & E...|       1|[0.9732403187836116,0.02675...|  0.0|       0.0|\n",
      "|\"A book about nothing!. Thi...|       1|[0.9732403187836116,0.02675...|  0.0|       0.0|\n",
      "|\"\"\"The Language of Dogs\"\". ...|       1|[0.9732403187836116,0.02675...|  0.0|       0.0|\n",
      "|\"A dud. Don't waste your ti...|       1|[0.9732403187836116,0.02675...|  0.0|       0.0|\n",
      "+------------------------------+--------+------------------------------+-----+----------+\n",
      "only showing top 10 rows\n",
      "\n"
     ]
    }
   ],
   "source": [
    "from pyspark.ml.classification import DecisionTreeClassifier\n",
    "dt = DecisionTreeClassifier(featuresCol = 'features', labelCol = 'label', maxDepth = 3)\n",
    "dtModel = dt.fit(trainingData)\n",
    "predictions = dtModel.transform(testData)\n",
    "predictions.filter(predictions['prediction'] == 0) \\\n",
    "    .select(\"clean_text\",\"category\",\"probability\",\"label\",\"prediction\") \\\n",
    "    .orderBy(\"probability\", ascending=False) \\\n",
    "    .show(n = 10, truncate = 30)"
   ]
  },
  {
   "cell_type": "code",
   "execution_count": 53,
   "metadata": {},
   "outputs": [
    {
     "name": "stdout",
     "output_type": "stream",
     "text": [
      "0.6554911468582181\n"
     ]
    }
   ],
   "source": [
    "evaluator = MulticlassClassificationEvaluator(predictionCol=\"prediction\")\n",
    "dtAccuracy = evaluator.evaluate(predictions)\n",
    "print(dtAccuracy) "
   ]
  },
  {
   "cell_type": "markdown",
   "metadata": {},
   "source": [
    "## Random Forest"
   ]
  },
  {
   "cell_type": "code",
   "execution_count": 54,
   "metadata": {},
   "outputs": [
    {
     "name": "stdout",
     "output_type": "stream",
     "text": [
      "+------------------------------+--------+------------------------------+-----+----------+\n",
      "|                    clean_text|category|                   probability|label|prediction|\n",
      "+------------------------------+--------+------------------------------+-----+----------+\n",
      "|Don't waste your money!. Th...|       1|[0.6025500554340077,0.39744...|  0.0|       0.0|\n",
      "|\"Only thing worse than the ...|       1|[0.6019055302136251,0.39809...|  0.0|       0.0|\n",
      "|Boring and Long Winded. I w...|       1|[0.6004379054591535,0.39956...|  0.0|       0.0|\n",
      "|UPDATE: It gets worse. Afte...|       1|[0.5999237499115319,0.40007...|  0.0|       0.0|\n",
      "|\"Horrible move, horrible re...|       1|[0.5980430818170858,0.40195...|  0.0|       0.0|\n",
      "|BAD IS ONLY ONE WAY TO DESC...|       1|[0.5968772999800105,0.40312...|  0.0|       0.0|\n",
      "|Don't buy it; if bought, re...|       1|[0.5954257584308066,0.40457...|  0.0|       0.0|\n",
      "|Defective ... Junk ... Buye...|       1|[0.5943201948076569,0.40567...|  0.0|       0.0|\n",
      "|Terrible Build, Worse Suppo...|       1|[0.5938706847937292,0.40612...|  0.0|       0.0|\n",
      "|Simply Terrible. I bought t...|       1|[0.593782454118062,0.406217...|  0.0|       0.0|\n",
      "+------------------------------+--------+------------------------------+-----+----------+\n",
      "only showing top 10 rows\n",
      "\n"
     ]
    }
   ],
   "source": [
    "from pyspark.ml.classification import RandomForestClassifier\n",
    "rf = RandomForestClassifier(labelCol=\"label\", \\\n",
    "                            featuresCol=\"features\", \\\n",
    "                            numTrees = 100, \\\n",
    "                            maxDepth = 4, \\\n",
    "                            maxBins = 32)\n",
    "# Train model with Training Data\n",
    "rfModel = rf.fit(trainingData)\n",
    "predictions = rfModel.transform(testData)\n",
    "predictions.filter(predictions['prediction'] == 0) \\\n",
    "    .select(\"clean_text\",\"category\",\"probability\",\"label\",\"prediction\") \\\n",
    "    .orderBy(\"probability\", ascending=False) \\\n",
    "    .show(n = 10, truncate = 30)"
   ]
  },
  {
   "cell_type": "code",
   "execution_count": 55,
   "metadata": {},
   "outputs": [
    {
     "name": "stdout",
     "output_type": "stream",
     "text": [
      "0.7740130341097058\n"
     ]
    }
   ],
   "source": [
    "evaluator = MulticlassClassificationEvaluator(predictionCol=\"prediction\")\n",
    "rfAccuracy = evaluator.evaluate(predictions)\n",
    "print(rfAccuracy) "
   ]
  },
  {
   "cell_type": "markdown",
   "metadata": {},
   "source": [
    "## Visualization"
   ]
  },
  {
   "cell_type": "code",
   "execution_count": 58,
   "metadata": {},
   "outputs": [],
   "source": [
    "import matplotlib.pyplot as plt\n",
    "import numpy as np\n",
    "model = ['Logistic regression', 'Random Forest',\"Decision Tree\" ]\n",
    "accuracy = [lrAccuracy,rfAccuracy,dtAccuracy]"
   ]
  },
  {
   "cell_type": "code",
   "execution_count": 59,
   "metadata": {},
   "outputs": [
    {
     "data": {
      "image/png": "[encoded data removed]",
      "text/plain": [
       "<Figure size 640x480 with 1 Axes>"
      ]
     },
     "metadata": {},
     "output_type": "display_data"
    }
   ],
   "source": [
    "def plot_bar_x():\n",
    "    # this is for plotting purpose\n",
    "    index = np.arange(len(model))\n",
    "    plt.bar(index, accuracy)\n",
    "    plt.xlabel('models', fontsize=10)\n",
    "    plt.ylabel('prediction accuracy', fontsize=10)\n",
    "    plt.xticks(index, model, fontsize=10, rotation=30)\n",
    "    plt.title('Accuracy of each model')\n",
    "    plt.show()\n",
    "    \n",
    "plot_bar_x()"
   ]
  },
  {
   "cell_type": "code",
   "execution_count": null,
   "metadata": {},
   "outputs": [],
   "source": []
  }
 ],
 "metadata": {
  "kernelspec": {
   "display_name": "Python 3 (ipykernel)",
   "language": "python",
   "name": "python3"
  },
  "language_info": {
   "codemirror_mode": {
    "name": "ipython",
    "version": 3
   },
   "file_extension": ".py",
   "mimetype": "text/x-python",
   "name": "python",
   "nbconvert_exporter": "python",
   "pygments_lexer": "ipython3",
   "version": "3.11.2"
  }
 },
 "nbformat": 4,
 "nbformat_minor": 2
}
